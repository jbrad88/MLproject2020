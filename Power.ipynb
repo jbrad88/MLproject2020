{
 "cells": [
  {
   "cell_type": "markdown",
   "metadata": {},
   "source": [
    "### Machine Learning and Statistics - GMIT\n",
    "#### Jody Bradley (G00387878) | Due date 08/01/2021\n",
    "\n",
    "----------------\n",
    "\n",
    "#### Introduction\n",
    "We have been tasked with creating a web service that uses machine learning to predict wind turbine power output from wind speed values, as in the data set provided (\"powerproduction.csv\").\n",
    "\n",
    "#### Linear Regression in Python\n",
    "Regression searches for relationships among variables. Regression is useful when you want to forecast a response using a new set of predictors [1]. In this instance, we can use regression to predict wind turbine power outputs from wind speed values.\n",
    "\n",
    "Linear regression is among the simplest regression methods, particularly with regards to its ease of interpretation.\n",
    "\n",
    "\n",
    "\n",
    "Simple linear regression is a linear regression model with a single explanatory variable [2].\n",
    "\n",
    "\n",
    "\n",
    "\n",
    "#### References\n",
    "[1.] https://realpython.com/linear-regression-in-python/\n",
    "\n",
    "[2.] https://en.wikipedia.org/wiki/Simple_linear_regression\n",
    "\n",
    "\n",
    "\n",
    "https://towardsdatascience.com/step-by-step-guide-building-a-prediction-model-in-python-ac441e8b9e8b\n",
    "\n"
   ]
  },
  {
   "cell_type": "code",
   "execution_count": 27,
   "metadata": {},
   "outputs": [
    {
     "name": "stdout",
     "output_type": "stream",
     "text": [
      "    speed  power\n",
      "0   0.000  0.000\n",
      "1   0.125  0.000\n",
      "2   0.150  0.000\n",
      "3   0.225  0.000\n",
      "4   0.275  0.000\n",
      "5   0.325  4.331\n",
      "6   0.400  5.186\n",
      "7   0.450  3.826\n",
      "8   0.501  1.048\n",
      "9   0.526  5.553\n",
      "10  0.551  6.498\n"
     ]
    }
   ],
   "source": [
    "# Note: We have cleansed the data set to take into account days on which the turbines were inactive.\n",
    "# This has been determined to be days on which wind speeds were greater than 5mph, however, no power\n",
    "# was generated. This was deeemed prudent in order to give a more accurate result.\n",
    "\n",
    "import pandas as pd\n",
    "import seaborn as sns\n",
    "\n",
    "df = pd.read_csv('powerproduction.csv')\n",
    "col=['speed','power']\n",
    "\n",
    "# Let's see if the data has loaded correctly. If so, the headings and first 10\n",
    "# rows will show - yes they do.\n",
    "print(df.head(n=11))\n"
   ]
  },
  {
   "cell_type": "code",
   "execution_count": 28,
   "metadata": {},
   "outputs": [
    {
     "name": "stdout",
     "output_type": "stream",
     "text": [
      "            speed       power\n",
      "count  477.000000  477.000000\n",
      "mean    12.408323   50.329753\n",
      "std      7.104189   41.215095\n",
      "min      0.000000    0.000000\n",
      "25%      6.181000    6.511000\n",
      "50%     12.487000   47.268000\n",
      "75%     18.519000   93.964000\n",
      "max     24.399000  113.556000\n"
     ]
    }
   ],
   "source": [
    "# View a basic statistical overview of the dataset:\n",
    "print(df.describe())"
   ]
  },
  {
   "cell_type": "code",
   "execution_count": 29,
   "metadata": {},
   "outputs": [
    {
     "data": {
      "text/plain": [
       "<matplotlib.axes._subplots.AxesSubplot at 0x17679aae3d0>"
      ]
     },
     "execution_count": 29,
     "metadata": {},
     "output_type": "execute_result"
    },
    {
     "data": {
      "image/png": "[encoded data removed]",
      "text/plain": [
       "<Figure size 432x288 with 1 Axes>"
      ]
     },
     "metadata": {
      "needs_background": "light"
     },
     "output_type": "display_data"
    }
   ],
   "source": [
    "# Take the two variables from our data set.\n",
    "production = df[[\"speed\", \"power\"]].dropna()\n",
    "# Scatter and fit line for just those two variables.\n",
    "sns.regplot(x=\"speed\", y=\"power\", data=df)\n"
   ]
  },
  {
   "cell_type": "code",
   "execution_count": 30,
   "metadata": {},
   "outputs": [],
   "source": [
    "# TRAIN\n",
    "\n",
    "import sklearn.linear_model as lin\n",
    "\n",
    "x = production[\"speed\"].to_numpy()\n",
    "y = production[\"power\"].to_numpy()\n",
    "\n",
    "x = x.reshape(-1, 1)\n",
    "\n",
    "model = lin.LinearRegression()\n",
    "model.fit(x, y)\n",
    "\n",
    "r = model.score(x, y)\n",
    "p = [model.intercept_, model.coef_[0]]\n"
   ]
  },
  {
   "cell_type": "code",
   "execution_count": 31,
   "metadata": {},
   "outputs": [
    {
     "data": {
      "text/plain": [
       "0.9033294610539289"
      ]
     },
     "execution_count": 31,
     "metadata": {},
     "output_type": "execute_result"
    }
   ],
   "source": [
    "# The r (relationship) value is a measure of how well the line fits the data set. The r\n",
    "# value ranges from 0 to 1, where 0 means no relationship and 1 means 100% related [[2.] https://www.w3schools.com/python/python_ml_linear_regression.asp].\n",
    "\n",
    "r"
   ]
  },
  {
   "cell_type": "code",
   "execution_count": 32,
   "metadata": {},
   "outputs": [
    {
     "data": {
      "text/plain": [
       "[-18.089448231194737, 5.513976519830959]"
      ]
     },
     "execution_count": 32,
     "metadata": {},
     "output_type": "execute_result"
    }
   ],
   "source": [
    "p"
   ]
  },
  {
   "cell_type": "code",
   "execution_count": 33,
   "metadata": {},
   "outputs": [],
   "source": [
    "# Predict. If we have the wind speed (x), how much power would be generated?\n",
    "\n",
    "def f(x, p):\n",
    "    return p[0] + x * p[1]\n",
    "\n",
    "def predict(x, p):\n",
    "    return f(x, p)"
   ]
  },
  {
   "cell_type": "code",
   "execution_count": 34,
   "metadata": {},
   "outputs": [
    {
     "data": {
      "text/plain": [
       "64.62019956626965"
      ]
     },
     "execution_count": 34,
     "metadata": {},
     "output_type": "execute_result"
    }
   ],
   "source": [
    "predict(15, p)"
   ]
  },
  {
   "cell_type": "code",
   "execution_count": 35,
   "metadata": {},
   "outputs": [
    {
     "data": {
      "text/plain": [
       "-7.061495191532819"
      ]
     },
     "execution_count": 35,
     "metadata": {},
     "output_type": "execute_result"
    }
   ],
   "source": [
    "# The above returns a predicted power output of 64.620 for a wind speed of 15 mph which looks ok.\n",
    "# However, when we try with a lower number, we get a negative output which can't be right. What can we do here?\n",
    "\n",
    "predict(2, p)"
   ]
  },
  {
   "cell_type": "code",
   "execution_count": 36,
   "metadata": {},
   "outputs": [],
   "source": [
    "# Polynomial Regression "
   ]
  },
  {
   "cell_type": "code",
   "execution_count": 55,
   "metadata": {},
   "outputs": [
    {
     "data": {
      "image/png": "[encoded data removed]",
      "text/plain": [
       "<Figure size 432x288 with 1 Axes>"
      ]
     },
     "metadata": {
      "needs_background": "light"
     },
     "output_type": "display_data"
    },
    {
     "name": "stdout",
     "output_type": "stream",
     "text": [
      "0.9785340997342342\n"
     ]
    }
   ],
   "source": [
    "import numpy as np\n",
    "import matplotlib.pyplot as plt \n",
    "\n",
    "x = production[\"speed\"].to_numpy()\n",
    "y = production[\"power\"].to_numpy()\n",
    "\n",
    "mymodel = np.poly1d(np.polyfit(x, y, 3))\n",
    "myline = np.linspace(1, 22, 100)\n",
    "\n",
    "# Draw the line of Polynomial Regression:  \n",
    "plt.scatter(x, y)\n",
    "plt.plot(myline, mymodel(myline))\n",
    "plt.show()\n",
    "\n",
    "# Show the r-squared value. This ranges from 0 to 1, where 0 means no relationship and 1 means 100% related.\n",
    "print(r2_score(y, mymodel(x)))\n"
   ]
  },
  {
   "cell_type": "code",
   "execution_count": 57,
   "metadata": {},
   "outputs": [
    {
     "name": "stdout",
     "output_type": "stream",
     "text": [
      "71.5832859107256\n"
     ]
    }
   ],
   "source": [
    "# The above r-squared number of 0.978534 shows that there is a very strong relationship.\n",
    "# We can use polynomial regression in future predictions. \n",
    "\n",
    "# how can we use polynomial regression to make a prediciton?\n",
    "from sklearn.metrics import r2_score\n",
    "\n",
    "# mymodel = np.poly1d(np.polyfit(x, y, 3))\n",
    "\n",
    "#print(r2_score(y, mymodel(x)))\n",
    "\n",
    "power = mymodel(15)\n",
    "    \n",
    "print(power)"
   ]
  }
 ],
 "metadata": {
  "kernelspec": {
   "display_name": "Python 3",
   "language": "python",
   "name": "python3"
  },
  "language_info": {
   "codemirror_mode": {
    "name": "ipython",
    "version": 3
   },
   "file_extension": ".py",
   "mimetype": "text/x-python",
   "name": "python",
   "nbconvert_exporter": "python",
   "pygments_lexer": "ipython3",
   "version": "3.8.3"
  }
 },
 "nbformat": 4,
 "nbformat_minor": 4
}
