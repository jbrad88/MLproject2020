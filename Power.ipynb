{
 "cells": [
  {
   "cell_type": "markdown",
   "metadata": {},
   "source": [
    "\n",
    "\n",
    "\n",
    "#### References\n",
    "\n",
    "https://towardsdatascience.com/step-by-step-guide-building-a-prediction-model-in-python-ac441e8b9e8b\n",
    "\n"
   ]
  },
  {
   "cell_type": "code",
   "execution_count": 16,
   "metadata": {},
   "outputs": [
    {
     "name": "stdout",
     "output_type": "stream",
     "text": [
      "    speed  power\n",
      "0   0.000  0.000\n",
      "1   0.125  0.000\n",
      "2   0.150  0.000\n",
      "3   0.225  0.000\n",
      "4   0.275  0.000\n",
      "5   0.325  4.331\n",
      "6   0.400  5.186\n",
      "7   0.450  3.826\n",
      "8   0.501  1.048\n",
      "9   0.526  5.553\n",
      "10  0.551  6.498\n"
     ]
    }
   ],
   "source": [
    "# Data set. Note: We have cleansed the data set to take into account days on which the turbines were inactive.\n",
    "# This has been determined to be days on which wind speeds were greater than 5mph, however, no power\n",
    "# was generated. This was deeemed prudent in order to give a more accurate result.\n",
    "\n",
    "import pandas as pd\n",
    "import seaborn as sns\n",
    "\n",
    "df = pd.read_csv('powerproduction.csv')\n",
    "col=['speed','power']\n",
    "\n",
    "# Let's see if the data has loaded correctly. If so, the headings and first 10\n",
    "# rows will show - yes they do.\n",
    "print(df.head(n=11))\n"
   ]
  },
  {
   "cell_type": "code",
   "execution_count": 17,
   "metadata": {},
   "outputs": [
    {
     "data": {
      "text/plain": [
       "<matplotlib.axes._subplots.AxesSubplot at 0x22d5375cac0>"
      ]
     },
     "execution_count": 17,
     "metadata": {},
     "output_type": "execute_result"
    },
    {
     "data": {
      "image/png": "[encoded data removed]",
      "text/plain": [
       "<Figure size 432x288 with 1 Axes>"
      ]
     },
     "metadata": {
      "needs_background": "light"
     },
     "output_type": "display_data"
    }
   ],
   "source": [
    "# Take the two variables from our data set.\n",
    "production = df[[\"speed\", \"power\"]].dropna()\n",
    "# Scatter and fit line for just those two variables.\n",
    "sns.regplot(x=\"speed\", y=\"power\", data=df)\n"
   ]
  },
  {
   "cell_type": "code",
   "execution_count": 30,
   "metadata": {},
   "outputs": [],
   "source": [
    "# TRAIN\n",
    "\n",
    "import sklearn.linear_model as lin\n",
    "\n",
    "x = production[\"speed\"].to_numpy()\n",
    "y = production[\"power\"].to_numpy()\n",
    "\n",
    "x = x.reshape(-1, 1)\n",
    "\n",
    "model = lin.LinearRegression()\n",
    "model.fit(x, y)\n",
    "\n",
    "r = model.score(x, y)\n",
    "p = [model.intercept_, model.coef_[0]]\n"
   ]
  },
  {
   "cell_type": "code",
   "execution_count": 31,
   "metadata": {},
   "outputs": [
    {
     "data": {
      "text/plain": [
       "0.9033294610539289"
      ]
     },
     "execution_count": 31,
     "metadata": {},
     "output_type": "execute_result"
    }
   ],
   "source": [
    "# The r value is a measure of how well the line fits the data set.\n",
    "r"
   ]
  },
  {
   "cell_type": "code",
   "execution_count": 32,
   "metadata": {},
   "outputs": [
    {
     "data": {
      "text/plain": [
       "[-18.089448231194737, 5.513976519830959]"
      ]
     },
     "execution_count": 32,
     "metadata": {},
     "output_type": "execute_result"
    }
   ],
   "source": [
    "p"
   ]
  },
  {
   "cell_type": "code",
   "execution_count": 35,
   "metadata": {},
   "outputs": [],
   "source": [
    "# Predict. If we have the wind speed (x), how much power would be generated?\n",
    "\n",
    "def f(x, p):\n",
    "    return p[0] + x * p[1]\n",
    "\n",
    "def predict(x, p):\n",
    "    return f(x, p)"
   ]
  },
  {
   "cell_type": "code",
   "execution_count": 36,
   "metadata": {},
   "outputs": [
    {
     "data": {
      "text/plain": [
       "64.62019956626965"
      ]
     },
     "execution_count": 36,
     "metadata": {},
     "output_type": "execute_result"
    }
   ],
   "source": [
    "predict(15, p)"
   ]
  },
  {
   "cell_type": "code",
   "execution_count": 15,
   "metadata": {},
   "outputs": [
    {
     "data": {
      "text/plain": [
       "48.078270006776776"
      ]
     },
     "execution_count": 15,
     "metadata": {},
     "output_type": "execute_result"
    }
   ],
   "source": [
    "predict(12, p)"
   ]
  },
  {
   "cell_type": "markdown",
   "metadata": {},
   "source": [
    "---"
   ]
  },
  {
   "cell_type": "markdown",
   "metadata": {},
   "source": [
    "Looking at Keras.\n"
   ]
  },
  {
   "cell_type": "code",
   "execution_count": null,
   "metadata": {},
   "outputs": [],
   "source": []
  }
 ],
 "metadata": {
  "kernelspec": {
   "display_name": "Python 3",
   "language": "python",
   "name": "python3"
  },
  "language_info": {
   "codemirror_mode": {
    "name": "ipython",
    "version": 3
   },
   "file_extension": ".py",
   "mimetype": "text/x-python",
   "name": "python",
   "nbconvert_exporter": "python",
   "pygments_lexer": "ipython3",
   "version": "3.8.3"
  }
 },
 "nbformat": 4,
 "nbformat_minor": 4
}
