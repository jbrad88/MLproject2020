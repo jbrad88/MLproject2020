{
 "cells": [
  {
   "cell_type": "code",
   "execution_count": 1,
   "metadata": {},
   "outputs": [
    {
     "name": "stdout",
     "output_type": "stream",
     "text": [
      "    speed  power\n",
      "0   0.000  0.000\n",
      "1   0.125  0.000\n",
      "2   0.150  0.000\n",
      "3   0.225  0.000\n",
      "4   0.275  0.000\n",
      "5   0.325  4.331\n",
      "6   0.400  5.186\n",
      "7   0.450  3.826\n",
      "8   0.501  1.048\n",
      "9   0.526  5.553\n",
      "10  0.551  6.498\n"
     ]
    }
   ],
   "source": [
    "# Note: We have cleansed the data set to take into account days on which the turbines were inactive.\n",
    "# This has been determined to be days on which wind speeds were greater than 5mph, however, no power\n",
    "# was generated. This was deeemed prudent in order to give a more accurate result.\n",
    "\n",
    "import pandas as pd\n",
    "import seaborn as sns\n",
    "\n",
    "df = pd.read_csv('powerproduction.csv')\n",
    "col=['speed','power']\n",
    "\n",
    "# Let's see if the data has loaded correctly. If so, the headings and first 10\n",
    "# rows will show - yes they do.\n",
    "print(df.head(n=11))"
   ]
  },
  {
   "cell_type": "code",
   "execution_count": null,
   "metadata": {},
   "outputs": [],
   "source": [
    "\n"
   ]
  },
  {
   "cell_type": "code",
   "execution_count": 6,
   "metadata": {},
   "outputs": [
    {
     "data": {
      "image/png": "[encoded data removed]",
      "text/plain": [
       "<Figure size 432x288 with 1 Axes>"
      ]
     },
     "metadata": {
      "needs_background": "light"
     },
     "output_type": "display_data"
    },
    {
     "name": "stdout",
     "output_type": "stream",
     "text": [
      "0.9785340997342342\n"
     ]
    }
   ],
   "source": [
    "import numpy as np\n",
    "import matplotlib.pyplot as plt \n",
    "from sklearn.metrics import r2_score\n",
    "\n",
    "# Take the two variables from our data set.\n",
    "production = df[[\"speed\", \"power\"]].dropna()\n",
    "\n",
    "x = production[\"speed\"].to_numpy()\n",
    "y = production[\"power\"].to_numpy()\n",
    "\n",
    "model = np.poly1d(np.polyfit(x, y, 3))\n",
    "line = np.linspace(1, 22, 100)\n",
    "\n",
    "# Draw the line of Polynomial Regression:  \n",
    "plt.scatter(x, y)\n",
    "plt.plot(line, model(line))\n",
    "plt.show()\n",
    "\n",
    "# Show the r-squared value. This ranges from 0 to 1, where 0 means no relationship and 1 means 100% related.\n",
    "print(r2_score(y, model(x)))"
   ]
  },
  {
   "cell_type": "code",
   "execution_count": 17,
   "metadata": {},
   "outputs": [],
   "source": [
    "import pandas as pd\n",
    "import numpy as np\n",
    "import joblib\n",
    "from sklearn.preprocessing import PolynomialFeatures\n",
    "from sklearn.linear_model import LinearRegression\n",
    "from sklearn.model_selection import train_test_split\n",
    "\n",
    "\n",
    "def data():\n",
    "    X_train, X_val, y_train, y_val  = train_test_split(df.iloc[:, :1].values,\n",
    "                                                       df.iloc[:, 1].values,\n",
    "                                                       test_size=0.2,\n",
    "                                                       random_state=1340)\n",
    "       \n",
    "    return X_train, X_val, y_train, y_val\n",
    "\n",
    "X_train, X_val, y_train, y_val = data()"
   ]
  },
  {
   "cell_type": "code",
   "execution_count": 18,
   "metadata": {},
   "outputs": [],
   "source": [
    "poly_reg = PolynomialFeatures(degree = 2)\n",
    "X_poly = poly_reg.fit_transform(X_train)\n",
    "\n",
    "poly_reg_model = LinearRegression().fit(X_poly, y_train)\n",
    "\n",
    "\n",
    "\n",
    "poly_model = joblib.dump(poly_reg_model, 'themodel')\n",
    "\n",
    "y_pred = poly_reg_model.predict(poly_reg.fit_transform(X_val))\n",
    "\n",
    "themodel = joblib.load('themodel')"
   ]
  },
  {
   "cell_type": "code",
   "execution_count": 21,
   "metadata": {},
   "outputs": [
    {
     "ename": "TypeError",
     "evalue": "'numpy.ndarray' object is not callable",
     "output_type": "error",
     "traceback": [
      "\u001b[1;31m---------------------------------------------------------------------------\u001b[0m",
      "\u001b[1;31mTypeError\u001b[0m                                 Traceback (most recent call last)",
      "\u001b[1;32m<ipython-input-21-31b515958db9>\u001b[0m in \u001b[0;36m<module>\u001b[1;34m\u001b[0m\n\u001b[1;32m----> 1\u001b[1;33m \u001b[0my_pred\u001b[0m\u001b[1;33m(\u001b[0m\u001b[1;36m15\u001b[0m\u001b[1;33m)\u001b[0m\u001b[1;33m\u001b[0m\u001b[1;33m\u001b[0m\u001b[0m\n\u001b[0m",
      "\u001b[1;31mTypeError\u001b[0m: 'numpy.ndarray' object is not callable"
     ]
    }
   ],
   "source": [
    "y_pred(15)"
   ]
  },
  {
   "cell_type": "code",
   "execution_count": null,
   "metadata": {},
   "outputs": [],
   "source": []
  }
 ],
 "metadata": {
  "kernelspec": {
   "display_name": "Python 3",
   "language": "python",
   "name": "python3"
  },
  "language_info": {
   "codemirror_mode": {
    "name": "ipython",
    "version": 3
   },
   "file_extension": ".py",
   "mimetype": "text/x-python",
   "name": "python",
   "nbconvert_exporter": "python",
   "pygments_lexer": "ipython3",
   "version": "3.8.3"
  }
 },
 "nbformat": 4,
 "nbformat_minor": 4
}
